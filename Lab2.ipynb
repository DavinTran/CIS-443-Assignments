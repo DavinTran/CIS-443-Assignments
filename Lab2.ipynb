{
  "cells": [
    {
      "cell_type": "markdown",
      "metadata": {
        "id": "view-in-github",
        "colab_type": "text"
      },
      "source": [
        "<a href=\"https://colab.research.google.com/github/DavinTran/CIS-443-Lab-2/blob/main/Lab2.ipynb\" target=\"_parent\"><img src=\"https://colab.research.google.com/assets/colab-badge.svg\" alt=\"Open In Colab\"/></a>"
      ]
    },
    {
      "cell_type": "markdown",
      "metadata": {
        "id": "5pq5fVc88w-Z"
      },
      "source": [
        "# CIS 443-01 - Analytics Programming\n",
        "## Lab 2\n",
        "__Grading ID__: KP1141 (double click the cell in Jupyter to edit, find ID in Blackboard Gradebook)<br>\n",
        "__Due__: Monday, September 12 (by 11:59 PM)<br />\n",
        "__Worth__: 25 pts."
      ]
    },
    {
      "cell_type": "markdown",
      "metadata": {
        "id": "INyk3QhR8w-a"
      },
      "source": [
        "### Directions\n",
        "Exercise 3.11, p. 113 (Miles Per Gallon) Drivers are concerned with the mileage obtained by their automobiles. One driver has kept track of several tankfuls of gasoline by recording miles driven and gallons used for each tankful. Develop a sentinel-controlled-repetition script that prompts the user to input the miles driven and gallons used for each tankful. The script should calculate and display the miles per gallon obtained for each tankful. After processing all input information, the script should calculate and display the combined miles per gallon obtained for all tankfuls (that is, total miles driven divided by total gallons used). Sample output appears below. (25 pts.)<br>\n",
        "<div class=\"alert alert-block alert-info\">\n",
        "Enter the gallons used (-1 to end): 12.8<br>\n",
        "Enter the miles driven: 287<br>\n",
        "The miles/gallon for this tank was 22.421875<br>\n",
        "Enter the gallons used (-1 to end): 10.3<br>\n",
        "Enter the miles driven: 200<br>\n",
        "The miles/gallon for this tank was 19.417475<br>\n",
        "Enter the gallons used (-1 to end): 5<br>\n",
        "Enter the miles driven: 120<br>\n",
        "The miles/gallon for this tank was 24.000000<br>\n",
        "Enter the gallons used (-1 to end): -1<br>\n",
        "The overall average miles/gallon was 21.601423\n",
        "</div>"
      ]
    },
    {
      "cell_type": "code",
      "execution_count": null,
      "metadata": {
        "colab": {
          "base_uri": "https://localhost:8080/"
        },
        "id": "jskAKfXr8w-b",
        "outputId": "b85d98ad-648c-4dc2-c819-1ec54056cccf"
      },
      "outputs": [
        {
          "output_type": "stream",
          "name": "stdout",
          "text": [
            "Enter the gallons used (-1 to end): 12.8\n",
            "Enter the miles driven: 287\n",
            "The miles/gallon for this tank was 22.421875\n",
            "Enter the gallons used (-1 to end): 10.3\n",
            "Enter the miles driven: 200\n",
            "The miles/gallon for this tank was 19.417476\n",
            "Enter the gallons used (-1 to end): 5\n",
            "Enter the miles driven: 120\n",
            "The miles/gallon for this tank was 24.0\n",
            "Enter the gallons used (-1 to end): -1\n",
            "Enter the miles driven: 21.601423\n",
            "The overall average miles/gallon was 21.94645\n"
          ]
        }
      ],
      "source": [
        "gals= float(input(\"Enter the gallons used (-1 to end): \"))\n",
        "\n",
        "miles = float(input(\"Enter the miles driven: \"))\n",
        "\n",
        "mileage = 0.0\n",
        "\n",
        "count = 0\n",
        "\n",
        "while not (gals == -1):\n",
        "\n",
        "   count += 1\n",
        "\n",
        "   mileage +=(miles/gals)\n",
        "\n",
        "   print(\"The miles/gallon for this tank was \"+str(round(miles/gals,6)))\n",
        "\n",
        "   gals= float(input(\"Enter the gallons used (-1 to end): \"))\n",
        "\n",
        "   miles = float(input(\"Enter the miles driven: \"))\n",
        "\n",
        "print(\"The overall average miles/gallon was \"+str(round(mileage/count,6)))\n",
        "\n"
      ]
    },
    {
      "cell_type": "markdown",
      "metadata": {
        "id": "euuVQVIL8w-b"
      },
      "source": [
        "Be sure to save and exit your Jupyter Notebook and Shutdown Jupyter Lab (from the __File__ menu) if using Ananconda before you submit your notebook on Blackboard for grading. If using Colab, be sure to Download (from the __File__ menu) back to your local file system before submitting to Blackboard.\n",
        "Make sure you don't submit the empty starting notebook by accident."
      ]
    }
  ],
  "metadata": {
    "kernelspec": {
      "display_name": "Python 3 (ipykernel)",
      "language": "python",
      "name": "python3"
    },
    "language_info": {
      "codemirror_mode": {
        "name": "ipython",
        "version": 3
      },
      "file_extension": ".py",
      "mimetype": "text/x-python",
      "name": "python",
      "nbconvert_exporter": "python",
      "pygments_lexer": "ipython3",
      "version": "3.9.7"
    },
    "colab": {
      "provenance": [],
      "include_colab_link": true
    }
  },
  "nbformat": 4,
  "nbformat_minor": 0
}